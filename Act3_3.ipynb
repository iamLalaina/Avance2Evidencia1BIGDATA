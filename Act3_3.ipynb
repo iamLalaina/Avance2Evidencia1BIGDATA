{
 "cells": [
  {
   "cell_type": "code",
   "execution_count": 14,
   "id": "c5378c27",
   "metadata": {},
   "outputs": [
    {
     "data": {
      "image/png": "[encoded data removed]",
      "text/plain": [
       "<Figure size 360x360 with 1 Axes>"
      ]
     },
     "metadata": {
      "needs_background": "light"
     },
     "output_type": "display_data"
    }
   ],
   "source": [
    "## Inicialización\n",
    " \n",
    "import pandas as pd\n",
    "import numpy as np\n",
    "import matplotlib.pyplot as plt\n",
    "%matplotlib inline\n",
    " \n",
    "df = pd.DataFrame({\n",
    "    'x1': [12, 20, 28, 18, 29, 33, 24, 45, 45, 52, 51, 52, 55, 53, 55, 61, 64, 69, 72],\n",
    "    'x2': [39, 36, 30, 52, 54, 46, 55, 59, 63, 70, 66, 63, 58, 23, 14, 8, 19, 7, 24]\n",
    "})\n",
    " \n",
    "np.random.seed(200)\n",
    "# Número de centroides k = 3\n",
    "k = 3\n",
    "# Inicializamos los centroides a valores aleatorios en el espacio de datos\n",
    "centroids = {\n",
    "    i+1: [np.random.randint(0, 80), np.random.randint(0, 80)]\n",
    "    for i in range(k)\n",
    "}\n",
    "     \n",
    "fig = plt.figure(figsize=(5, 5))\n",
    "plt.scatter(df['x1'], df['x2'], color='k')\n",
    "colmap = {1: 'r', 2: 'g', 3: 'b'}\n",
    "for i in centroids.keys():\n",
    "    plt.scatter(*centroids[i], color=colmap[i])\n",
    "plt.title(u'Los k centroides están inicializados')\n",
    "plt.xlim(0, 80)\n",
    "plt.ylim(0, 80)\n",
    "plt.show()"
   ]
  },
  {
   "cell_type": "code",
   "execution_count": null,
   "id": "1d36bce9",
   "metadata": {},
   "outputs": [],
   "source": [
    "# Alvaro. (2019). Segmentación utilizando K-means en Python. 15/10/2021, de Machine Learning para Todos Sitio web: https://machinelearningparatodos.com/segmentacion-utilizando-k-means-en-python/"
   ]
  }
 ],
 "metadata": {
  "kernelspec": {
   "display_name": "Python 3",
   "language": "python",
   "name": "python3"
  },
  "language_info": {
   "codemirror_mode": {
    "name": "ipython",
    "version": 3
   },
   "file_extension": ".py",
   "mimetype": "text/x-python",
   "name": "python",
   "nbconvert_exporter": "python",
   "pygments_lexer": "ipython3",
   "version": "3.8.8"
  }
 },
 "nbformat": 4,
 "nbformat_minor": 5
}
